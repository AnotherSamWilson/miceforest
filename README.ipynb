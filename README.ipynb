{
 "cells": [
  {
   "cell_type": "markdown",
   "metadata": {},
   "source": [
    "[![DOI](https://zenodo.org/badge/289387436.svg)](https://zenodo.org/badge/latestdoi/289387436)\n",
    "[![Downloads](https://static.pepy.tech/badge/miceforest)](https://pepy.tech/project/miceforest)\n",
    "[![Pypi](https://img.shields.io/pypi/v/miceforest.svg)](https://pypi.python.org/pypi/miceforest)\n",
    "[![Conda\n",
    "Version](https://img.shields.io/conda/vn/conda-forge/miceforest.svg)](https://anaconda.org/conda-forge/miceforest)\n",
    "[![PyVersions](https://img.shields.io/pypi/pyversions/miceforest.svg?logo=python&logoColor=white)](https://pypi.org/project/miceforest/)  \n",
    "[![tests +\n",
    "mypy](https://github.com/AnotherSamWilson/miceforest/actions/workflows/run_tests.yml/badge.svg)](https://github.com/AnotherSamWilson/miceforest/actions/workflows/run_tests.yml)\n",
    "[![Documentation\n",
    "Status](https://readthedocs.org/projects/miceforest/badge/?version=latest)](https://miceforest.readthedocs.io/en/latest/?badge=latest)\n",
    "[![CodeCov](https://codecov.io/gh/AnotherSamWilson/miceforest/branch/master/graphs/badge.svg?branch=master&service=github)](https://codecov.io/gh/AnotherSamWilson/miceforest)\n",
    "<!-- [![MIT license](http://img.shields.io/badge/license-MIT-brightgreen.svg)](http://opensource.org/licenses/MIT) -->\n",
    "<!-- [![Code style: black](https://img.shields.io/badge/code%20style-black-000000.svg)](https://github.com/psf/black)   -->\n",
    "<!-- [![DEV_Version_Badge](https://img.shields.io/badge/Dev-5.6.3-blue.svg)](https://pypi.org/project/miceforest/) -->\n"
   ]
  },
  {
   "cell_type": "markdown",
   "metadata": {},
   "source": [
    "# miceforest: Fast, Memory Efficient Imputation with LightGBM"
   ]
  },
  {
   "cell_type": "markdown",
   "metadata": {},
   "source": [
    "<a href='https://github.com/AnotherSamWilson/miceforest'><img src='https://raw.githubusercontent.com/AnotherSamWilson/miceforest/master/examples/icon.png' align=\"right\" height=\"300\" /></a>\n",
    "\n",
    "Fast, memory efficient Multiple Imputation by Chained Equations (MICE)\n",
    "with lightgbm. The R version of this package may be found\n",
    "[here](https://github.com/FarrellDay/miceRanger).\n",
    "\n",
    "`miceforest` was designed to be:\n",
    "\n",
    "  - **Fast**\n",
    "      - Uses lightgbm as a backend\n",
    "      - Has efficient mean matching solutions.\n",
    "      - Can utilize GPU training\n",
    "  - **Flexible**\n",
    "      - Can impute pandas dataframes and numpy arrays\n",
    "      - Handles categorical data automatically\n",
    "      - Fits into a sklearn pipeline\n",
    "      - User can customize every aspect of the imputation process\n",
    "  - **Production Ready**\n",
    "      - Can impute new, unseen datasets quickly\n",
    "      - Kernels are efficiently compressed during saving and loading\n",
    "      - Data can be imputed in place to save memory\n",
    "      - Can build models on non-missing data\n"
   ]
  },
  {
   "cell_type": "markdown",
   "metadata": {},
   "source": [
    "This document contains a thorough walkthrough of the package,\n",
    "benchmarks, and an introduction to multiple imputation. More information\n",
    "on MICE can be found in Stef van Buuren’s excellent online book, which\n",
    "you can find\n",
    "[here](https://stefvanbuuren.name/fimd/ch-introduction.html).\n",
    "\n",
    "#### Table of Contents:\n",
    "\n",
    "  - [Package\n",
    "    Meta](https://github.com/AnotherSamWilson/miceforest#Package-Meta)\n",
    "  - [The\n",
    "    Basics](https://github.com/AnotherSamWilson/miceforest#The-Basics)\n",
    "      - [Basic\n",
    "        Examples](https://github.com/AnotherSamWilson/miceforest#Basic-Examples)\n",
    "      - [Customizing LightGBM\n",
    "        Parameters](https://github.com/AnotherSamWilson/miceforest#Customizing-LightGBM-Parameters)\n",
    "      - [Available Mean Match\n",
    "        Schemes](https://github.com/AnotherSamWilson/miceforest#Controlling-Tree-Growth)\n",
    "      - [Imputing New Data with Existing\n",
    "        Models](https://github.com/AnotherSamWilson/miceforest#Imputing-New-Data-with-Existing-Models)\n",
    "      - [Saving and Loading\n",
    "        Kernels](https://github.com/AnotherSamWilson/miceforest#Saving-and-Loading-Kernels)\n",
    "      - [Implementing sklearn\n",
    "        Pipelines](https://github.com/AnotherSamWilson/miceforest#Implementing-sklearn-Pipelines)\n",
    "  - [Advanced\n",
    "    Features](https://github.com/AnotherSamWilson/miceforest#Advanced-Features)\n",
    "      - [Customizing the Imputation\n",
    "        Process](https://github.com/AnotherSamWilson/miceforest#Customizing-the-Imputation-Process)\n",
    "      - [Building Models on Nonmissing\n",
    "        Data](https://github.com/AnotherSamWilson/miceforest#Building-Models-on-Nonmissing-Data)\n",
    "      - [Tuning\n",
    "        Parameters](https://github.com/AnotherSamWilson/miceforest#Tuning-Parameters)\n",
    "      - [On\n",
    "        Reproducibility](https://github.com/AnotherSamWilson/miceforest#On-Reproducibility)\n",
    "      - [How to Make the Process\n",
    "        Faster](https://github.com/AnotherSamWilson/miceforest#How-to-Make-the-Process-Faster)\n",
    "      - [Imputing Data In\n",
    "        Place](https://github.com/AnotherSamWilson/miceforest#Imputing-Data-In-Place)\n",
    "  - [Diagnostic\n",
    "    Plotting](https://github.com/AnotherSamWilson/miceforest#Diagnostic-Plotting)\n",
    "      - [Imputed\n",
    "        Distributions](https://github.com/AnotherSamWilson/miceforest#Distribution-of-Imputed-Values)\n",
    "      - [Correlation\n",
    "        Convergence](https://github.com/AnotherSamWilson/miceforest#Convergence-of-Correlation)\n",
    "      - [Variable\n",
    "        Importance](https://github.com/AnotherSamWilson/miceforest#Variable-Importance)\n",
    "      - [Mean\n",
    "        Convergence](https://github.com/AnotherSamWilson/miceforest#Variable-Importance)\n",
    "  - [Benchmarks](https://github.com/AnotherSamWilson/miceforest#Benchmarks)\n",
    "  - [Using the Imputed\n",
    "    Data](https://github.com/AnotherSamWilson/miceforest#Using-the-Imputed-Data)\n",
    "  - [The MICE\n",
    "    Algorithm](https://github.com/AnotherSamWilson/miceforest#The-MICE-Algorithm)\n",
    "      - [Introduction](https://github.com/AnotherSamWilson/miceforest#The-MICE-Algorithm)\n",
    "      - [Common Use\n",
    "        Cases](https://github.com/AnotherSamWilson/miceforest#Common-Use-Cases)\n",
    "      - [Predictive Mean\n",
    "        Matching](https://github.com/AnotherSamWilson/miceforest#Predictive-Mean-Matching)\n",
    "      - [Effects of Mean\n",
    "        Matching](https://github.com/AnotherSamWilson/miceforest#Effects-of-Mean-Matching)"
   ]
  },
  {
   "cell_type": "markdown",
   "metadata": {},
   "source": [
    "## Installation\n",
    "\n",
    "This package can be installed using either pip or conda, through\n",
    "conda-forge:\n",
    "\n",
    "``` bash\n",
    "# Using pip\n",
    "$ pip install miceforest --no-cache-dir\n",
    "\n",
    "# Using conda\n",
    "$ conda install -c conda-forge miceforest\n",
    "```\n",
    "\n",
    "You can also download the latest development version from this\n",
    "repository. If you want to install from github with conda, you must\n",
    "first run `conda install pip git`.\n",
    "\n",
    "``` bash\n",
    "$ pip install git+https://github.com/AnotherSamWilson/miceforest.git\n",
    "```"
   ]
  },
  {
   "cell_type": "markdown",
   "metadata": {},
   "source": [
    "## Classes\n",
    "\n",
    "miceforest has 3 main classes which the user will interact with:\n",
    "\n",
    "  - [`ImputationKernel`](https://miceforest.readthedocs.io/en/latest/ik/miceforest.ImputationKernel.html#miceforest.ImputationKernel)\n",
    "    - This class contains the raw data off of which the `mice` algorithm\n",
    "    is performed. During this process, models will be trained, and the\n",
    "    imputed (predicted) values will be stored. These values can be used\n",
    "    to fill in the missing values of the raw data. The raw data can be\n",
    "    copied, or referenced directly. Models can be saved, and used to\n",
    "    impute new datasets.\n",
    "  - [`ImputedData`](https://miceforest.readthedocs.io/en/latest/ik/miceforest.ImputedData.html#miceforest.ImputedData)\n",
    "    - The result of `ImputationKernel.impute_new_data(new_data)`. This\n",
    "    contains the raw data in `new_data` as well as the imputed values.  \n",
    "  - [`MeanMatchScheme`](https://miceforest.readthedocs.io/en/latest/ik/miceforest.MeanMatchScheme.html#miceforest.MeanMatchScheme)\n",
    "    - Determines how mean matching should be carried out. There are 3\n",
    "    built-in mean match schemes available in miceforest, discussed\n",
    "    below.\n"
   ]
  },
  {
   "cell_type": "markdown",
   "metadata": {},
   "source": [
    "## Basic Usage\n",
    "\n",
    "We will be looking at a few simple examples of imputation. We need to\n",
    "load the packages, and define the data:"
   ]
  },
  {
   "cell_type": "markdown",
   "metadata": {},
   "source": [
    "```python\n",
    "import miceforest as mf\n",
    "from sklearn.datasets import load_iris\n",
    "import pandas as pd\n",
    "import numpy as np\n",
    "\n",
    "# Load data and introduce missing values\n",
    "iris = pd.concat(load_iris(as_frame=True,return_X_y=True),axis=1)\n",
    "iris.rename({\"target\": \"species\"}, inplace=True, axis=1)\n",
    "iris['species'] = iris['species'].astype('category')\n",
    "iris_amp = mf.ampute_data(iris,perc=0.25,random_state=1991)\n",
    "```"
   ]
  },
  {
   "cell_type": "code",
   "execution_count": null,
   "metadata": {},
   "outputs": [],
   "source": []
  },
  {
   "cell_type": "markdown",
   "metadata": {},
   "source": []
  }
 ],
 "metadata": {
  "kernelspec": {
   "display_name": "Python 3 (ipykernel)",
   "language": "python",
   "name": "python3"
  },
  "language_info": {
   "codemirror_mode": {
    "name": "ipython",
    "version": 3
   },
   "file_extension": ".py",
   "mimetype": "text/x-python",
   "name": "python",
   "nbconvert_exporter": "python",
   "pygments_lexer": "ipython3",
   "version": "3.10.14"
  }
 },
 "nbformat": 4,
 "nbformat_minor": 2
}
